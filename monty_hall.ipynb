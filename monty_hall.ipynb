{
 "cells": [
  {
   "cell_type": "markdown",
   "id": "99f5b04e-d577-4891-b15b-e9108bd9f542",
   "metadata": {},
   "source": [
    "# The Monty Hall Problem\n",
    "You are a contestant in a game show. The host shows you 3 closed doors behind one of which lies a prize of $10,000. Behind the other two doors lies nothing. You make an initial guess and the host then opens one of the remaining doors to reveal nothing. He then asks if you would like to stick to your initial guess or if you would like to switch?\n",
    "\n",
    "At what seems like an equally likely outcome at a first glance, is the player better off choosing one strategy over the other?"
   ]
  },
  {
   "cell_type": "code",
   "execution_count": 2,
   "id": "21b617b2-6bcb-4c19-b023-352992e9cc4f",
   "metadata": {},
   "outputs": [],
   "source": [
    "import random"
   ]
  },
  {
   "cell_type": "code",
   "execution_count": 4,
   "id": "b764dc92-42df-482f-9359-d691f3de6310",
   "metadata": {},
   "outputs": [],
   "source": [
    "def monty_hall(switch=True):\n",
    "    \n",
    "    keys = [\"A\", \"B\", \"C\"]\n",
    "    values = [\"$10000\", \"nothing\", \"nothing\"]\n",
    "    random.shuffle(values)\n",
    "    random_dict = dict(zip(keys, values))\n",
    "\n",
    "    first_choice = random.choice(keys)\n",
    "    \n",
    "    prize_door = [key for key, value in random_dict.items() if value == \"$10000\"][0]\n",
    "    \n",
    "    if first_choice == prize_door:\n",
    "        first_revelation = random.choice([i for i in keys if i != prize_door])\n",
    "        if switch:\n",
    "            return 0\n",
    "        else:\n",
    "            return 1\n",
    "    else:\n",
    "        first_revelation = [i for i in keys if i not in [first_choice, prize_door]][0]\n",
    "        if switch:\n",
    "            return 1\n",
    "        else:\n",
    "            return 0"
   ]
  },
  {
   "cell_type": "markdown",
   "id": "df82177d-6c17-43b8-b20d-be653b26b8e6",
   "metadata": {},
   "source": [
    "## Calculating win percentage when player switches"
   ]
  },
  {
   "cell_type": "code",
   "execution_count": 7,
   "id": "52cf78c9-8827-4d6f-a35c-4eb18d171790",
   "metadata": {},
   "outputs": [
    {
     "name": "stdout",
     "output_type": "stream",
     "text": [
      "66823\n"
     ]
    }
   ],
   "source": [
    "n_samples = 100000\n",
    "win_count = 0\n",
    "for i in range(n_samples):\n",
    "    win_count += monty_hall(switch=True)\n",
    "print(win_count)"
   ]
  },
  {
   "cell_type": "code",
   "execution_count": 9,
   "id": "7dabcac4-2f44-4d08-adf5-593609968f16",
   "metadata": {},
   "outputs": [
    {
     "name": "stdout",
     "output_type": "stream",
     "text": [
      "Win percentage : 66.823\n"
     ]
    }
   ],
   "source": [
    "print(f\"Win percentage : {win_count/n_samples*100}\")"
   ]
  },
  {
   "cell_type": "markdown",
   "id": "3528974f-fa7e-4ba4-8999-2328f8ac8a4a",
   "metadata": {},
   "source": [
    "## Win percentage when player doesn't switch"
   ]
  },
  {
   "cell_type": "code",
   "execution_count": 11,
   "id": "b1cf28c6-30b4-4ed0-8e8b-fc9f27c1577a",
   "metadata": {},
   "outputs": [
    {
     "name": "stdout",
     "output_type": "stream",
     "text": [
      "33354\n"
     ]
    }
   ],
   "source": [
    "win_count = 0\n",
    "for i in range(n_samples):\n",
    "    win_count += monty_hall(switch=False)\n",
    "print(win_count)"
   ]
  },
  {
   "cell_type": "code",
   "execution_count": 13,
   "id": "1c25aa46-e03c-4656-8dbb-55d3bdbf0b98",
   "metadata": {},
   "outputs": [
    {
     "name": "stdout",
     "output_type": "stream",
     "text": [
      "Win percentage : 33.354\n"
     ]
    }
   ],
   "source": [
    "print(f\"Win percentage : {win_count/n_samples*100}\")"
   ]
  },
  {
   "cell_type": "code",
   "execution_count": null,
   "id": "15de8db8-d757-4900-9864-02cbd59cc385",
   "metadata": {},
   "outputs": [],
   "source": []
  }
 ],
 "metadata": {
  "kernelspec": {
   "display_name": "Python 3 (ipykernel)",
   "language": "python",
   "name": "python3"
  },
  "language_info": {
   "codemirror_mode": {
    "name": "ipython",
    "version": 3
   },
   "file_extension": ".py",
   "mimetype": "text/x-python",
   "name": "python",
   "nbconvert_exporter": "python",
   "pygments_lexer": "ipython3",
   "version": "3.12.2"
  }
 },
 "nbformat": 4,
 "nbformat_minor": 5
}
